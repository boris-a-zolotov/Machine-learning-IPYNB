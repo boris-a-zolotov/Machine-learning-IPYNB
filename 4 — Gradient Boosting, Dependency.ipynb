{
 "cells": [
  {
   "cell_type": "code",
   "execution_count": 1,
   "metadata": {
    "collapsed": true
   },
   "outputs": [],
   "source": [
    "import math\n",
    "import matplotlib as mpl\n",
    "import matplotlib.pyplot as plot\n",
    "\n",
    "import numpy as np\n",
    "import scipy as sp\n",
    "import scipy.stats as st\n",
    "import scipy.integrate as integrate\n",
    "\n",
    "import itertools\n",
    "from itertools import product\n",
    "import seaborn as sns\n",
    "import json\n",
    "import sklearn\n",
    "from sklearn import linear_model\n",
    "from sklearn import ensemble"
   ]
  },
  {
   "cell_type": "markdown",
   "metadata": {},
   "source": [
    "## Данные картинки"
   ]
  },
  {
   "cell_type": "code",
   "execution_count": 4,
   "metadata": {},
   "outputs": [],
   "source": [
    "sns.set_style(\"darkgrid\")\n",
    "figsize = (17,7)\n",
    "legend_fontsize = 13\n",
    "sns.set_palette(\"colorblind\")\n",
    "palette = sns.color_palette()"
   ]
  },
  {
   "cell_type": "markdown",
   "metadata": {},
   "source": [
    "## Зависимость ошибки бустинга от количества деревьев"
   ]
  },
  {
   "cell_type": "code",
   "execution_count": 6,
   "metadata": {},
   "outputs": [
    {
     "data": {
      "image/png": "[encoded data removed]",
      "text/plain": [
       "<matplotlib.figure.Figure at 0x5c546f3cf8>"
      ]
     },
     "metadata": {},
     "output_type": "display_data"
    }
   ],
   "source": [
    "fig = plot.figure(figsize=figsize)\n",
    "ax = fig.add_subplot(111)\n",
    "ax.set_xlim(-0.1,33.1)\n",
    "\n",
    "DATA = np.genfromtxt('wineq.csv',delimiter=';')\n",
    "ERRORS = []\n",
    "\n",
    "for trees_num in range (0,33) :\n",
    "    for ttime in range (1,5) :\n",
    "        np.random.shuffle (DATA)\n",
    "\n",
    "        T = DATA[int (0.8*len(DATA)):]\n",
    "        A = DATA[:int (0.8*len(DATA))]\n",
    "\n",
    "        Tp = [[row[0],row[1],row[2],row[3],row[4],row[5],row[6],row[7],row[8],row[9],row[10]] for row in T]\n",
    "        Ta = T[:,11]\n",
    "\n",
    "        Ap = [[row[0],row[1],row[2],row[3],row[4],row[5],row[6],row[7],row[8],row[9],row[10]] for row in A]\n",
    "        Aa = A[:,11]\n",
    "        \n",
    "        MODEL = ensemble.GradientBoostingClassifier(n_estimators = 1+3*trees_num, max_depth = 1).fit(Tp, Ta)\n",
    "        PRED = MODEL.predict (Ap)\n",
    "    \n",
    "        ERRORS.append (math.sqrt(sklearn.metrics.mean_squared_error (Aa, PRED)))\n",
    "    \n",
    "    ax.plot (trees_num, (sum(ERRORS)/float(len(ERRORS))), 'rs')\n",
    "    \n",
    "    \n",
    "plot.show ()"
   ]
  }
 ],
 "metadata": {
  "kernelspec": {
   "display_name": "Python 3",
   "language": "python",
   "name": "python3"
  },
  "language_info": {
   "codemirror_mode": {
    "name": "ipython",
    "version": 3
   },
   "file_extension": ".py",
   "mimetype": "text/x-python",
   "name": "python",
   "nbconvert_exporter": "python",
   "pygments_lexer": "ipython3",
   "version": "3.6.2"
  }
 },
 "nbformat": 4,
 "nbformat_minor": 2
}
