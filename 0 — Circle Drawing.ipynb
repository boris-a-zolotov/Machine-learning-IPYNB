{
 "cells": [
  {
   "cell_type": "markdown",
   "metadata": {},
   "source": [
    "## Импорты"
   ]
  },
  {
   "cell_type": "code",
   "execution_count": 1,
   "metadata": {
    "collapsed": true
   },
   "outputs": [],
   "source": [
    "import math\n",
    "import matplotlib as mpl\n",
    "import matplotlib.pyplot as plot\n",
    "\n",
    "import numpy as np\n",
    "import scipy as sp\n",
    "import scipy.stats as st\n",
    "import scipy.integrate as integrate\n",
    "\n",
    "import itertools\n",
    "from itertools import product\n",
    "import seaborn as sns\n",
    "import json\n",
    "from sklearn import linear_model"
   ]
  },
  {
   "cell_type": "markdown",
   "metadata": {},
   "source": [
    "## Массив чисел для картинки"
   ]
  },
  {
   "cell_type": "code",
   "execution_count": 2,
   "metadata": {},
   "outputs": [
    {
     "data": {
      "text/plain": [
       "array([-1.        , -0.93333333, -0.86666667, -0.8       , -0.73333333,\n",
       "       -0.66666667, -0.6       , -0.53333333, -0.46666667, -0.4       ,\n",
       "       -0.33333333, -0.26666667, -0.2       , -0.13333333, -0.06666667,\n",
       "        0.        ,  0.06666667,  0.13333333,  0.2       ,  0.26666667,\n",
       "        0.33333333,  0.4       ,  0.46666667,  0.53333333,  0.6       ,\n",
       "        0.66666667,  0.73333333,  0.8       ,  0.86666667,  0.93333333,  1.        ])"
      ]
     },
     "execution_count": 2,
     "metadata": {},
     "output_type": "execute_result"
    }
   ],
   "source": [
    "sq_numbers = np.arange (-15, 16, 1) / 15\n",
    "ssq_numbers = list(product(sq_numbers,repeat=2))\n",
    "sq_numbers"
   ]
  },
  {
   "cell_type": "markdown",
   "metadata": {},
   "source": [
    "## Метаданные и картинка"
   ]
  },
  {
   "cell_type": "code",
   "execution_count": 5,
   "metadata": {},
   "outputs": [
    {
     "data": {
      "image/png": "[encoded data removed]",
      "text/plain": [
       "<matplotlib.figure.Figure at 0x919b29cac8>"
      ]
     },
     "metadata": {},
     "output_type": "display_data"
    }
   ],
   "source": [
    "sns.set_style(\"darkgrid\")\n",
    "figsize = (11,11)\n",
    "legend_fontsize = 13\n",
    "sns.set_palette(\"colorblind\")\n",
    "palette = sns.color_palette()\n",
    "\n",
    "fig = plot.figure(figsize=figsize)\n",
    "ax = fig.add_subplot(111)\n",
    "ax.set_xlim(-1.5,1.5)\n",
    "ax.set_ylim(-1.5,1.5)\n",
    "\n",
    "\n",
    "## Рисование кружочка\n",
    "\n",
    "def distance (x, y, a, b):\n",
    "    return math.sqrt ((x-a)*(x-a) + (y-b)*(y-b))\n",
    "\n",
    "for x in sq_numbers:\n",
    "    for y in sq_numbers:\n",
    "        if distance (x,y,0.25,0.25) < 0.5:\n",
    "            ax.plot(x, y, 'rs')\n",
    "        else:\n",
    "            ax.plot(x, y, 'bs')\n",
    "\n",
    "plot.show()"
   ]
  }
 ],
 "metadata": {
  "kernelspec": {
   "display_name": "Python 3",
   "language": "python",
   "name": "python3"
  },
  "language_info": {
   "codemirror_mode": {
    "name": "ipython",
    "version": 3
   },
   "file_extension": ".py",
   "mimetype": "text/x-python",
   "name": "python",
   "nbconvert_exporter": "python",
   "pygments_lexer": "ipython3",
   "version": "3.6.2"
  }
 },
 "nbformat": 4,
 "nbformat_minor": 2
}
