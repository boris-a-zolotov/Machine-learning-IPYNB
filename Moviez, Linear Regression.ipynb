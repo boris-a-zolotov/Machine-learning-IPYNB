{
 "cells": [
  {
   "cell_type": "code",
   "execution_count": 2,
   "metadata": {
    "collapsed": true
   },
   "outputs": [],
   "source": [
    "import math\n",
    "import matplotlib as mpl\n",
    "import matplotlib.pyplot as plot\n",
    "\n",
    "import numpy as np\n",
    "import scipy as sp\n",
    "import scipy.stats as st\n",
    "import scipy.integrate as integrate\n",
    "\n",
    "import itertools\n",
    "from itertools import product\n",
    "import seaborn as sns\n",
    "import json\n",
    "import sklearn\n",
    "from sklearn import linear_model\n",
    "from sklearn import ensemble\n",
    "\n",
    "import pandas as pd\n",
    "import csv"
   ]
  },
  {
   "cell_type": "markdown",
   "metadata": {},
   "source": [
    "## Чтение из файла"
   ]
  },
  {
   "cell_type": "code",
   "execution_count": 3,
   "metadata": {
    "collapsed": true
   },
   "outputs": [],
   "source": [
    "DATA = []\n",
    "\n",
    "path = \"AllMoviesDetailsCleaned.csv\"\n",
    "with open(path, 'r', -1, 'utf-8') as csvfile:\n",
    "  for row in csv.reader(csvfile, delimiter=';'):\n",
    "    DATA.append(row)"
   ]
  },
  {
   "cell_type": "code",
   "execution_count": 4,
   "metadata": {},
   "outputs": [
    {
     "data": {
      "text/plain": [
       "329045"
      ]
     },
     "execution_count": 4,
     "metadata": {},
     "output_type": "execute_result"
    }
   ],
   "source": [
    "len(DATA)"
   ]
  },
  {
   "cell_type": "markdown",
   "metadata": {},
   "source": [
    "## Столбцы в таблице рейтинга"
   ]
  },
  {
   "cell_type": "code",
   "execution_count": 5,
   "metadata": {},
   "outputs": [
    {
     "name": "stdout",
     "output_type": "stream",
     "text": [
      "0   ﻿id\n",
      "1   budget\n",
      "2   genres\n",
      "3   imdb_id\n",
      "4   original_language\n",
      "5   original_title\n",
      "6   overview\n",
      "7   popularity\n",
      "8   production_companies\n",
      "9   production_countries\n",
      "10   release_date\n",
      "11   revenue\n",
      "12   runtime\n",
      "13   spoken_languages\n",
      "14   status\n",
      "15   tagline\n",
      "16   title\n",
      "17   vote_average\n",
      "18   vote_count\n",
      "19   production_companies_number\n",
      "20   production_countries_number\n",
      "21   spoken_languages_number\n"
     ]
    }
   ],
   "source": [
    "nnn=0\n",
    "\n",
    "for s in DATA[0] :\n",
    "    print (nnn,' ',s)\n",
    "    nnn=nnn+1"
   ]
  },
  {
   "cell_type": "markdown",
   "metadata": {},
   "source": [
    "## Чистый список данных"
   ]
  },
  {
   "cell_type": "code",
   "execution_count": 67,
   "metadata": {},
   "outputs": [
    {
     "data": {
      "text/plain": [
       "4907"
      ]
     },
     "execution_count": 67,
     "metadata": {},
     "output_type": "execute_result"
    }
   ],
   "source": [
    "DTAIL = DATA[1:]\n",
    "DATA_CLEAN = [x for x in DTAIL if float(x[18]) > 127]\n",
    "\n",
    "len(DATA_CLEAN)"
   ]
  },
  {
   "cell_type": "code",
   "execution_count": 68,
   "metadata": {},
   "outputs": [
    {
     "name": "stdout",
     "output_type": "stream",
     "text": [
      "['12', '94000000', 'Animation|Family', 'tt0266543', 'en', 'Finding Nemo', \"Nemo, an adventurous young clownfish, is unexpectedly taken from his Great Barrier Reef home to a dentist's office aquarium. It's up to his worrisome father Marlin and a friendly but forgetful fish Dory to bring Nemo home -- meeting vegetarian sharks, surfer dude turtles, hypnotic jellyfish, hungry seagulls, and more along the way.\", '9.915573', 'Pixar Animation Studios', 'United States of America', '30/05/2003', '940335536', '100', 'English', 'Released', \"There are 3.7 trillion fish in the ocean, they're looking for one.\", 'Finding Nemo', '7.6', '5531', '1', '1', '1']\n"
     ]
    }
   ],
   "source": [
    "print(DATA_CLEAN[2])"
   ]
  },
  {
   "cell_type": "markdown",
   "metadata": {},
   "source": [
    "## Выделение года"
   ]
  },
  {
   "cell_type": "code",
   "execution_count": 69,
   "metadata": {},
   "outputs": [
    {
     "name": "stdout",
     "output_type": "stream",
     "text": [
      "1997\n"
     ]
    }
   ],
   "source": [
    "yr = lambda s : s[6:]\n",
    "print(yr ('27/11/1997'))"
   ]
  },
  {
   "cell_type": "markdown",
   "metadata": {},
   "source": [
    "## Числовые данные"
   ]
  },
  {
   "cell_type": "code",
   "execution_count": 70,
   "metadata": {},
   "outputs": [
    {
     "name": "stdout",
     "output_type": "stream",
     "text": [
      "[94000000, 940335536, 5531, 100, 9.915573, 66, 333, 12, 1, 2003, 7.6]\n"
     ]
    }
   ],
   "source": [
    "DATA_FW = [\n",
    "  [int(x[1]),                                        # Бюджет\n",
    "     int(x[11]),                                     # Выручка\n",
    "     int(x[18]),                                     # Количество голосовавших \n",
    "     int(x[12]),                                     # Длительность\n",
    "     float(x[7]),                                    # Популярность\n",
    "     len(x[15]),                                     # Длина слогана\n",
    "     len(x[6]),                                      # Длина сюжета\n",
    "     len(x[16]),                                     # Длина названия\n",
    "     int(x[20]),                                     # Количество участвовавших стран\n",
    "     int (yr (x[10])),                               # Год выпуска\n",
    "       float(x[17])]                                 # Рейтинг\n",
    "  for x in DATA_CLEAN\n",
    "]\n",
    "\n",
    "print(DATA_FW[2])"
   ]
  },
  {
   "cell_type": "markdown",
   "metadata": {},
   "source": [
    "## Нормализация"
   ]
  },
  {
   "cell_type": "code",
   "execution_count": 71,
   "metadata": {},
   "outputs": [],
   "source": [
    "D_DATA_FW_p = [[row[0],row[1],row[2],row[3],row[4],row[5],row[6],row[7],row[8],row[9]] for row in DATA_FW]\n",
    "DATA_FW_a = [row[10] for row in DATA_FW]"
   ]
  },
  {
   "cell_type": "code",
   "execution_count": 72,
   "metadata": {},
   "outputs": [],
   "source": [
    "norm = sklearn.preprocessing.StandardScaler()\n",
    "DATA_FW_p = norm.fit_transform(D_DATA_FW_p)"
   ]
  },
  {
   "cell_type": "markdown",
   "metadata": {},
   "source": [
    "## Тестовое и обучающее множества"
   ]
  },
  {
   "cell_type": "code",
   "execution_count": 73,
   "metadata": {},
   "outputs": [],
   "source": [
    "Ap = []\n",
    "\n",
    "for x in range (0, len (DATA_FW_p) - 1) :\n",
    "    if (x % 10 == 0) :\n",
    "        Ap.append(DATA_FW_p[x])\n",
    "\n",
    "Tp = []\n",
    "\n",
    "for x in range (0, len (DATA_FW_p) - 1) :\n",
    "    if (x % 10 != 0) :\n",
    "        Tp.append(DATA_FW_p[x])\n",
    "        \n",
    "Aa = []\n",
    "\n",
    "for x in range (0, len (DATA_FW_a) - 1) :\n",
    "    if (x % 10 == 0) :\n",
    "        Aa.append(DATA_FW_a[x])\n",
    "\n",
    "Ta = []\n",
    "\n",
    "for x in range (0, len (DATA_FW_a) - 1) :\n",
    "    if (x % 10 != 0) :\n",
    "        Ta.append(DATA_FW_a[x])\n"
   ]
  },
  {
   "cell_type": "markdown",
   "metadata": {},
   "source": [
    "## Линейная регрессия"
   ]
  },
  {
   "cell_type": "code",
   "execution_count": 74,
   "metadata": {},
   "outputs": [
    {
     "name": "stdout",
     "output_type": "stream",
     "text": [
      "0.7054559246044632\n"
     ]
    }
   ],
   "source": [
    "ERRORS = []\n",
    "\n",
    "MODEL = linear_model.LinearRegression(fit_intercept=True).fit(Tp, Ta)\n",
    "PRED = MODEL.predict (Ap)\n",
    "    \n",
    "ERRORS.append (math.sqrt(sklearn.metrics.mean_squared_error (Aa, PRED)))\n",
    "print (sum(ERRORS)/float(len(ERRORS)))"
   ]
  },
  {
   "cell_type": "code",
   "execution_count": 75,
   "metadata": {},
   "outputs": [
    {
     "name": "stdout",
     "output_type": "stream",
     "text": [
      "[-0.28055795 -0.05424942  0.391641    0.18267294  0.03738657 -0.03031426\n",
      " -0.01385464 -0.0066123   0.01083846 -0.2503099 ]\n"
     ]
    }
   ],
   "source": [
    "print(MODEL.coef_)"
   ]
  },
  {
   "cell_type": "markdown",
   "metadata": {},
   "source": [
    "## Картиночка"
   ]
  },
  {
   "cell_type": "code",
   "execution_count": 80,
   "metadata": {},
   "outputs": [
    {
     "data": {
      "image/png": "[encoded data removed]",
      "text/plain": [
       "<matplotlib.figure.Figure at 0x6e34446dd8>"
      ]
     },
     "metadata": {},
     "output_type": "display_data"
    }
   ],
   "source": [
    "sns.set_style(\"darkgrid\")\n",
    "figsize = (20,10)\n",
    "legend_fontsize = 13\n",
    "sns.set_palette(\"colorblind\")\n",
    "palette = sns.color_palette()\n",
    "\n",
    "fig = plot.figure(figsize=figsize)\n",
    "ax = fig.add_subplot(111)\n",
    "ax.set_xlim(-0.1,4.1)\n",
    "ax.set_ylim(1.2,8.2)\n",
    "\n",
    "for i in range (0,(len(PRED)-1)):\n",
    "    ax.plot(4*i/len(PRED), Aa[i], 'bs')\n",
    "    ax.plot(4*i/len(PRED), PRED[i], 'rs')\n",
    "    ax.plot(4*i/len(PRED), math.sqrt((Aa[i]-PRED[i])*(Aa[i]-PRED[i]))+1 , 'gs')\n",
    "    \n",
    "plot.show()"
   ]
  }
 ],
 "metadata": {
  "kernelspec": {
   "display_name": "Python 3",
   "language": "python",
   "name": "python3"
  },
  "language_info": {
   "codemirror_mode": {
    "name": "ipython",
    "version": 3
   },
   "file_extension": ".py",
   "mimetype": "text/x-python",
   "name": "python",
   "nbconvert_exporter": "python",
   "pygments_lexer": "ipython3",
   "version": "3.6.2"
  }
 },
 "nbformat": 4,
 "nbformat_minor": 2
}
